{
 "cells": [
  {
   "cell_type": "code",
   "execution_count": 1,
   "id": "8230b491",
   "metadata": {},
   "outputs": [
    {
     "name": "stdout",
     "output_type": "stream",
     "text": [
      "\n",
      "To-Do List Menu:\n",
      "1. Add Task\n",
      "2. View Tasks\n",
      "3. Delete Task\n",
      "4. Exit\n",
      "Enter your choice (1-4): 4\n",
      "Exiting To-Do List app. Bye!\n"
     ]
    }
   ],
   "source": [
    "# Simple To-Do List app\n",
    "\n",
    "# Initialize empty list to store tasks\n",
    "todo_list = []\n",
    "\n",
    "def show_menu():\n",
    "    print(\"\\nTo-Do List Menu:\")\n",
    "    print(\"1. Add Task\")\n",
    "    print(\"2. View Tasks\")\n",
    "    print(\"3. Delete Task\")\n",
    "    print(\"4. Exit\")\n",
    "\n",
    "def add_task():\n",
    "    task = input(\"Enter the task: \")\n",
    "    todo_list.append(task)\n",
    "    print(f\"Task '{task}' added.\")\n",
    "\n",
    "def view_tasks():\n",
    "    if not todo_list:\n",
    "        print(\"No tasks in your To-Do list.\")\n",
    "    else:\n",
    "        print(\"\\nYour To-Do List:\")\n",
    "        for i, task in enumerate(todo_list, 1):\n",
    "            print(f\"{i}. {task}\")\n",
    "\n",
    "def delete_task():\n",
    "    view_tasks()\n",
    "    if todo_list:\n",
    "        try:\n",
    "            task_num = int(input(\"Enter the task number to delete: \"))\n",
    "            if 1 <= task_num <= len(todo_list):\n",
    "                removed_task = todo_list.pop(task_num - 1)\n",
    "                print(f\"Task '{removed_task}' deleted.\")\n",
    "            else:\n",
    "                print(\"Invalid task number.\")\n",
    "        except ValueError:\n",
    "            print(\"Please enter a valid number.\")\n",
    "\n",
    "# Main loop\n",
    "while True:\n",
    "    show_menu()\n",
    "    choice = input(\"Enter your choice (1-4): \")\n",
    "    if choice == '1':\n",
    "        add_task()\n",
    "    elif choice == '2':\n",
    "        view_tasks()\n",
    "    elif choice == '3':\n",
    "        delete_task()\n",
    "    elif choice == '4':\n",
    "        print(\"Exiting To-Do List app. Bye!\")\n",
    "        break\n",
    "    else:\n",
    "        print(\"Invalid choice. Please enter a number between 1 and 4.\")\n"
   ]
  },
  {
   "cell_type": "code",
   "execution_count": null,
   "id": "72f0e53c",
   "metadata": {},
   "outputs": [],
   "source": []
  }
 ],
 "metadata": {
  "kernelspec": {
   "display_name": "Python 3",
   "language": "python",
   "name": "python3"
  },
  "language_info": {
   "codemirror_mode": {
    "name": "ipython",
    "version": 3
   },
   "file_extension": ".py",
   "mimetype": "text/x-python",
   "name": "python",
   "nbconvert_exporter": "python",
   "pygments_lexer": "ipython3",
   "version": "3.8.8"
  }
 },
 "nbformat": 4,
 "nbformat_minor": 5
}
